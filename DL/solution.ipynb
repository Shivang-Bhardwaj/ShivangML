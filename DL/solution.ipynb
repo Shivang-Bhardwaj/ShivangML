{
 "cells": [
  {
   "cell_type": "code",
   "execution_count": 7,
   "metadata": {},
   "outputs": [],
   "source": [
    "import tensorflow as tf\n",
    "from tensorflow import keras\n",
    "import numpy as np"
   ]
  },
  {
   "cell_type": "code",
   "execution_count": null,
   "metadata": {},
   "outputs": [],
   "source": [
    "# 1.  mnist dataset (digit dataset)"
   ]
  },
  {
   "cell_type": "code",
   "execution_count": 8,
   "metadata": {},
   "outputs": [],
   "source": [
    "(X_train, y_train),(X_test, y_test) = keras.datasets.mnist.load_data()   # digit dataset\n",
    "X_train = X_train/255.0   # normalisation\n",
    "X_test = X_test/255.0"
   ]
  },
  {
   "cell_type": "code",
   "execution_count": 9,
   "metadata": {},
   "outputs": [
    {
     "name": "stdout",
     "output_type": "stream",
     "text": [
      "Epoch 1/5\n",
      "1875/1875 [==============================] - 7s 3ms/step - loss: 0.4042 - accuracy: 0.8920\n",
      "Epoch 2/5\n",
      "1875/1875 [==============================] - 6s 3ms/step - loss: 0.1833 - accuracy: 0.9476\n",
      "Epoch 3/5\n",
      "1875/1875 [==============================] - 6s 3ms/step - loss: 0.1385 - accuracy: 0.9600\n",
      "Epoch 4/5\n",
      "1875/1875 [==============================] - 6s 3ms/step - loss: 0.1113 - accuracy: 0.9677\n",
      "Epoch 5/5\n",
      "1875/1875 [==============================] - 5s 3ms/step - loss: 0.0934 - accuracy: 0.9735\n",
      "313/313 [==============================] - 1s 2ms/step - loss: 0.1094 - accuracy: 0.9681\n"
     ]
    },
    {
     "data": {
      "text/plain": [
       "[0.10942138731479645, 0.9681000113487244]"
      ]
     },
     "execution_count": 9,
     "metadata": {},
     "output_type": "execute_result"
    }
   ],
   "source": [
    "\n",
    "model1 = keras.Sequential([\n",
    "    keras.layers.Flatten(input_shape=(28, 28)),\n",
    "\n",
    "    keras.layers.Dense(128),\n",
    "    keras.layers.Lambda( lambda x : tf.where(x>=1.0,tf.math.log(x),0.0) ),  # custom activation function\n",
    "\n",
    "    keras.layers.Dense(10, activation='softmax')\n",
    "])\n",
    "model1.compile(optimizer='adam',\n",
    "              loss='sparse_categorical_crossentropy',\n",
    "              metrics=['accuracy'])\n",
    "model1.fit(X_train, y_train, epochs=5)\n",
    "model1.evaluate(X_test, y_test)"
   ]
  },
  {
   "cell_type": "code",
   "execution_count": 10,
   "metadata": {},
   "outputs": [
    {
     "name": "stdout",
     "output_type": "stream",
     "text": [
      "Epoch 1/5\n",
      "1875/1875 [==============================] - 8s 4ms/step - loss: 0.2572 - accuracy: 0.9252\n",
      "Epoch 2/5\n",
      "1875/1875 [==============================] - 8s 4ms/step - loss: 0.1106 - accuracy: 0.9680\n",
      "Epoch 3/5\n",
      "1875/1875 [==============================] - 7s 4ms/step - loss: 0.0763 - accuracy: 0.9770\n",
      "Epoch 4/5\n",
      "1875/1875 [==============================] - 7s 4ms/step - loss: 0.0566 - accuracy: 0.9828\n",
      "Epoch 5/5\n",
      "1875/1875 [==============================] - 7s 4ms/step - loss: 0.0440 - accuracy: 0.9865\n",
      "313/313 [==============================] - 1s 3ms/step - loss: 0.0724 - accuracy: 0.9771\n"
     ]
    },
    {
     "data": {
      "text/plain": [
       "[0.0723833441734314, 0.9771000146865845]"
      ]
     },
     "execution_count": 10,
     "metadata": {},
     "output_type": "execute_result"
    }
   ],
   "source": [
    "\n",
    "model1 = keras.Sequential([\n",
    "    keras.layers.Flatten(input_shape=(28, 28)),\n",
    "\n",
    "    keras.layers.Dense(128),\n",
    "    keras.layers.Lambda( lambda x : tf.where(x>=0.0,tf.math.log(tf.math.pow(x,2) +1),0.0) ), \n",
    "\n",
    "    keras.layers.Dense(10, activation='softmax')\n",
    "])\n",
    "model1.compile(optimizer='adam',\n",
    "              loss='sparse_categorical_crossentropy',\n",
    "              metrics=['accuracy'])\n",
    "model1.fit(X_train, y_train, epochs=5)\n",
    "model1.evaluate(X_test, y_test)"
   ]
  },
  {
   "cell_type": "code",
   "execution_count": 11,
   "metadata": {},
   "outputs": [
    {
     "name": "stdout",
     "output_type": "stream",
     "text": [
      "Epoch 1/5\n",
      "1875/1875 [==============================] - 7s 3ms/step - loss: 0.2648 - accuracy: 0.9267\n",
      "Epoch 2/5\n",
      "1875/1875 [==============================] - 5s 3ms/step - loss: 0.1414 - accuracy: 0.9595\n",
      "Epoch 3/5\n",
      "1875/1875 [==============================] - 5s 3ms/step - loss: 0.1084 - accuracy: 0.9683\n",
      "Epoch 4/5\n",
      "1875/1875 [==============================] - 6s 3ms/step - loss: 0.0921 - accuracy: 0.9724\n",
      "Epoch 5/5\n",
      "1875/1875 [==============================] - 6s 3ms/step - loss: 0.0827 - accuracy: 0.9750\n",
      "313/313 [==============================] - 1s 3ms/step - loss: 0.1282 - accuracy: 0.9678\n"
     ]
    },
    {
     "data": {
      "text/plain": [
       "[0.128247931599617, 0.9678000211715698]"
      ]
     },
     "execution_count": 11,
     "metadata": {},
     "output_type": "execute_result"
    }
   ],
   "source": [
    "model1 = keras.Sequential([\n",
    "    keras.layers.Flatten(input_shape=(28, 28)),\n",
    "\n",
    "    keras.layers.Dense(128),\n",
    "    keras.layers.Lambda( lambda x : x*tf.math.log(1+ tf.math.pow(x,2)) ), \n",
    "\n",
    "    keras.layers.Dense(10, activation='softmax')\n",
    "])\n",
    "model1.compile(optimizer='adam',\n",
    "              loss='sparse_categorical_crossentropy',\n",
    "              metrics=['accuracy'])\n",
    "model1.fit(X_train, y_train, epochs=5)\n",
    "model1.evaluate(X_test, y_test)"
   ]
  },
  {
   "cell_type": "code",
   "execution_count": 12,
   "metadata": {},
   "outputs": [
    {
     "name": "stdout",
     "output_type": "stream",
     "text": [
      "Epoch 1/5\n",
      "1875/1875 [==============================] - 6s 3ms/step - loss: 0.3041 - accuracy: 0.9146\n",
      "Epoch 2/5\n",
      "1875/1875 [==============================] - 5s 3ms/step - loss: 0.1802 - accuracy: 0.9493\n",
      "Epoch 3/5\n",
      "1875/1875 [==============================] - 5s 3ms/step - loss: 0.1432 - accuracy: 0.9592\n",
      "Epoch 4/5\n",
      "1875/1875 [==============================] - 5s 3ms/step - loss: 0.1199 - accuracy: 0.9650\n",
      "Epoch 5/5\n",
      "1875/1875 [==============================] - 5s 3ms/step - loss: 0.1061 - accuracy: 0.9681\n",
      "313/313 [==============================] - 1s 2ms/step - loss: 0.1621 - accuracy: 0.9537\n"
     ]
    },
    {
     "data": {
      "text/plain": [
       "[0.16210369765758514, 0.9537000060081482]"
      ]
     },
     "execution_count": 12,
     "metadata": {},
     "output_type": "execute_result"
    }
   ],
   "source": [
    "model1 = keras.Sequential([\n",
    "    keras.layers.Flatten(input_shape=(28, 28)),\n",
    "\n",
    "    keras.layers.Dense(128),\n",
    "    keras.layers.Lambda( lambda x : x*tf.math.log(1+ tf.math.abs(x)) ), \n",
    "\n",
    "    keras.layers.Dense(10, activation='softmax')\n",
    "])\n",
    "model1.compile(optimizer='adam',\n",
    "              loss='sparse_categorical_crossentropy',\n",
    "              metrics=['accuracy'])\n",
    "model1.fit(X_train, y_train, epochs=5)\n",
    "model1.evaluate(X_test, y_test)"
   ]
  },
  {
   "cell_type": "code",
   "execution_count": null,
   "metadata": {},
   "outputs": [],
   "source": []
  },
  {
   "cell_type": "code",
   "execution_count": null,
   "metadata": {},
   "outputs": [],
   "source": [
    "#  2. cifat 10 dataset"
   ]
  },
  {
   "cell_type": "code",
   "execution_count": 13,
   "metadata": {},
   "outputs": [],
   "source": [
    "(X_train, y_train), (X_test,y_test) = keras.datasets.cifar10.load_data()\n",
    "X_train = X_train / 255.0  # normalisation\n",
    "X_test = X_test / 255.0"
   ]
  },
  {
   "cell_type": "code",
   "execution_count": 14,
   "metadata": {},
   "outputs": [],
   "source": [
    "y_train = y_train.ravel()\n",
    "y_test = y_test.ravel()"
   ]
  },
  {
   "cell_type": "code",
   "execution_count": 40,
   "metadata": {},
   "outputs": [
    {
     "name": "stdout",
     "output_type": "stream",
     "text": [
      "Epoch 1/10\n",
      "1563/1563 [==============================] - 71s 44ms/step - loss: 2.3028 - accuracy: 0.0976\n",
      "Epoch 2/10\n",
      "1563/1563 [==============================] - 68s 44ms/step - loss: 2.3028 - accuracy: 0.0969\n",
      "Epoch 3/10\n",
      "1563/1563 [==============================] - 67s 43ms/step - loss: 2.3028 - accuracy: 0.0993\n",
      "Epoch 4/10\n",
      "1563/1563 [==============================] - 71s 45ms/step - loss: 2.3028 - accuracy: 0.0984\n",
      "Epoch 5/10\n",
      "1563/1563 [==============================] - 65s 41ms/step - loss: 2.3028 - accuracy: 0.0988\n",
      "Epoch 6/10\n",
      "1563/1563 [==============================] - 63s 41ms/step - loss: 2.3028 - accuracy: 0.0999\n",
      "Epoch 7/10\n",
      "1563/1563 [==============================] - 63s 40ms/step - loss: 2.3028 - accuracy: 0.0983\n",
      "Epoch 8/10\n",
      "1563/1563 [==============================] - 62s 40ms/step - loss: 2.3028 - accuracy: 0.0985\n",
      "Epoch 9/10\n",
      "1563/1563 [==============================] - 64s 41ms/step - loss: 2.3028 - accuracy: 0.0995\n",
      "Epoch 10/10\n",
      "1563/1563 [==============================] - 76s 48ms/step - loss: 2.3028 - accuracy: 0.0979\n"
     ]
    },
    {
     "data": {
      "text/plain": [
       "<keras.callbacks.History at 0x1b9d288c6a0>"
      ]
     },
     "execution_count": 40,
     "metadata": {},
     "output_type": "execute_result"
    }
   ],
   "source": [
    "model2 = keras.Sequential([\n",
    "    # cnn\n",
    "    keras.layers.Conv2D(filters=32, kernel_size=(3, 3), padding='valid', strides=(1,1), input_shape=(32, 32, 3)),\n",
    "    keras.layers.Lambda( lambda x : tf.where(x>=1.0,tf.math.log(x),0.0) ),\n",
    "    keras.layers.MaxPooling2D((2, 2)),\n",
    "    \n",
    "    keras.layers.Conv2D(filters=64, kernel_size=(3, 3), padding='valid', strides=(1,1)),\n",
    "    keras.layers.Lambda( lambda x : tf.where(x>=1.0,tf.math.log(x),0.0) ),\n",
    "    keras.layers.MaxPooling2D((2, 2)),\n",
    "    \n",
    "    # ann\n",
    "    keras.layers.Flatten(), \n",
    "\n",
    "    keras.layers.Dense(64),\n",
    "    keras.layers.Lambda( lambda x : tf.where(x>=1.0,tf.math.log(x),0.0) ),\n",
    "    \n",
    "    keras.layers.Dense(10, activation='softmax')\n",
    "])\n",
    "model2.compile(optimizer='adam',\n",
    "              loss='sparse_categorical_crossentropy',\n",
    "              metrics=['accuracy'])\n",
    "model2.fit(X_train, y_train, epochs=10)"
   ]
  },
  {
   "cell_type": "code",
   "execution_count": 16,
   "metadata": {},
   "outputs": [
    {
     "name": "stdout",
     "output_type": "stream",
     "text": [
      "Epoch 1/10\n",
      "1563/1563 [==============================] - 76s 48ms/step - loss: 1.6005 - accuracy: 0.4203\n",
      "Epoch 2/10\n",
      "1563/1563 [==============================] - 74s 47ms/step - loss: 1.2809 - accuracy: 0.5447\n",
      "Epoch 3/10\n",
      "1563/1563 [==============================] - 77s 49ms/step - loss: 1.1285 - accuracy: 0.6027\n",
      "Epoch 4/10\n",
      "1563/1563 [==============================] - 74s 47ms/step - loss: 1.0261 - accuracy: 0.6391\n",
      "Epoch 5/10\n",
      "1563/1563 [==============================] - 76s 48ms/step - loss: 0.9502 - accuracy: 0.6684\n",
      "Epoch 6/10\n",
      "1563/1563 [==============================] - 72s 46ms/step - loss: 0.8917 - accuracy: 0.6880\n",
      "Epoch 7/10\n",
      "1563/1563 [==============================] - 77s 49ms/step - loss: 0.8361 - accuracy: 0.7073\n",
      "Epoch 8/10\n",
      "1563/1563 [==============================] - 72s 46ms/step - loss: 0.7857 - accuracy: 0.7246\n",
      "Epoch 9/10\n",
      "1563/1563 [==============================] - 73s 47ms/step - loss: 0.7437 - accuracy: 0.7380\n",
      "Epoch 10/10\n",
      "1563/1563 [==============================] - 73s 46ms/step - loss: 0.7043 - accuracy: 0.7534\n",
      "313/313 [==============================] - 6s 19ms/step - loss: 0.9642 - accuracy: 0.6741\n"
     ]
    },
    {
     "data": {
      "text/plain": [
       "[0.96419358253479, 0.6740999817848206]"
      ]
     },
     "execution_count": 16,
     "metadata": {},
     "output_type": "execute_result"
    }
   ],
   "source": [
    "model2 = keras.Sequential([\n",
    "    # cnn\n",
    "    keras.layers.Conv2D(filters=32, kernel_size=(3, 3), strides=(1,1), input_shape=(32, 32, 3)),\n",
    "    keras.layers.Lambda( lambda x :  tf.where(x>=0.0,tf.math.log(tf.math.pow(x,2) +1),0.0) ),\n",
    "    keras.layers.MaxPooling2D((2, 2)),\n",
    "    \n",
    "    keras.layers.Conv2D(filters=64, kernel_size=(3, 3), strides=(1,1)),\n",
    "    keras.layers.Lambda( lambda x : tf.where(x>=0.0,tf.math.log(tf.math.pow(x,2) +1),0.0)),\n",
    "    keras.layers.MaxPooling2D((2, 2)),\n",
    "    \n",
    "    # ann\n",
    "    keras.layers.Flatten(), #it will automatically flatten.  no need to specify\n",
    "\n",
    "    keras.layers.Dense(64),\n",
    "    keras.layers.Lambda( lambda x : tf.where(x>=0.0,tf.math.log(tf.math.pow(x,2) +1),0.0) ),\n",
    "\n",
    "    keras.layers.Dense(10, activation='softmax')\n",
    "])\n",
    "model2.compile(optimizer='adam',\n",
    "              loss='sparse_categorical_crossentropy',\n",
    "              metrics=['accuracy'])\n",
    "model2.fit(X_train, y_train, epochs=10)\n",
    "model2.evaluate(X_test, y_test)"
   ]
  },
  {
   "cell_type": "code",
   "execution_count": 83,
   "metadata": {},
   "outputs": [
    {
     "name": "stdout",
     "output_type": "stream",
     "text": [
      "Epoch 1/10\n",
      "1563/1563 [==============================] - 80s 48ms/step - loss: 2.0066 - accuracy: 0.2960\n",
      "Epoch 2/10\n",
      "1563/1563 [==============================] - 73s 47ms/step - loss: 1.4356 - accuracy: 0.4907\n",
      "Epoch 3/10\n",
      "1563/1563 [==============================] - 74s 47ms/step - loss: 1.2197 - accuracy: 0.5726\n",
      "Epoch 4/10\n",
      "1563/1563 [==============================] - 103s 66ms/step - loss: 1.0888 - accuracy: 0.6214\n",
      "Epoch 5/10\n",
      "1563/1563 [==============================] - 119s 76ms/step - loss: 0.9936 - accuracy: 0.6539\n",
      "Epoch 6/10\n",
      "1563/1563 [==============================] - 105s 67ms/step - loss: 0.9113 - accuracy: 0.6856\n",
      "Epoch 7/10\n",
      "1563/1563 [==============================] - 100s 64ms/step - loss: 0.8441 - accuracy: 0.7081\n",
      "Epoch 8/10\n",
      "1563/1563 [==============================] - 76s 49ms/step - loss: 0.7784 - accuracy: 0.7266\n",
      "Epoch 9/10\n",
      "1563/1563 [==============================] - 90s 57ms/step - loss: 0.7337 - accuracy: 0.7424\n",
      "Epoch 10/10\n",
      "1563/1563 [==============================] - 76s 49ms/step - loss: 0.6861 - accuracy: 0.7598\n"
     ]
    },
    {
     "data": {
      "text/plain": [
       "<keras.callbacks.History at 0x1e4d5fd9d90>"
      ]
     },
     "execution_count": 83,
     "metadata": {},
     "output_type": "execute_result"
    }
   ],
   "source": [
    "model2 = keras.Sequential([\n",
    "    # cnn\n",
    "    keras.layers.Conv2D(filters=32, kernel_size=(3, 3), strides=(1,1), input_shape=(32, 32, 3)),\n",
    "    keras.layers.Lambda( lambda x :  x*tf.math.log(1+ tf.math.pow(x,2)) ),\n",
    "    keras.layers.MaxPooling2D((2, 2)),\n",
    "    \n",
    "    keras.layers.Conv2D(filters=64, kernel_size=(3, 3), strides=(1,1)),\n",
    "    keras.layers.Lambda( lambda x : x*tf.math.log(1+ tf.math.pow(x,2))),\n",
    "    keras.layers.MaxPooling2D((2, 2)),\n",
    "    \n",
    "    # ann\n",
    "    keras.layers.Flatten(), \n",
    "    \n",
    "    keras.layers.Dense(64),\n",
    "    keras.layers.Lambda( lambda x : x*tf.math.log(1+ tf.math.pow(x,2)) ),\n",
    "\n",
    "    keras.layers.Dense(10, activation='softmax')\n",
    "])\n",
    "model2.compile(optimizer='adam',\n",
    "              loss='sparse_categorical_crossentropy',\n",
    "              metrics=['accuracy'])\n",
    "model2.fit(X_train, y_train, epochs=10)"
   ]
  },
  {
   "cell_type": "code",
   "execution_count": 84,
   "metadata": {},
   "outputs": [
    {
     "name": "stdout",
     "output_type": "stream",
     "text": [
      "313/313 [==============================] - 6s 16ms/step - loss: 1.1124 - accuracy: 0.6693\n"
     ]
    },
    {
     "data": {
      "text/plain": [
       "[1.1124347448349, 0.6693000197410583]"
      ]
     },
     "execution_count": 84,
     "metadata": {},
     "output_type": "execute_result"
    }
   ],
   "source": [
    "model2.evaluate(X_test, y_test)"
   ]
  },
  {
   "cell_type": "code",
   "execution_count": null,
   "metadata": {},
   "outputs": [],
   "source": []
  },
  {
   "cell_type": "code",
   "execution_count": 85,
   "metadata": {},
   "outputs": [
    {
     "name": "stdout",
     "output_type": "stream",
     "text": [
      "Epoch 1/10\n",
      "1563/1563 [==============================] - 87s 49ms/step - loss: 1.6690 - accuracy: 0.4126\n",
      "Epoch 2/10\n",
      "1563/1563 [==============================] - 76s 49ms/step - loss: 1.2543 - accuracy: 0.5609\n",
      "Epoch 3/10\n",
      "1563/1563 [==============================] - 78s 50ms/step - loss: 1.1076 - accuracy: 0.6172\n",
      "Epoch 4/10\n",
      "1563/1563 [==============================] - 80s 51ms/step - loss: 1.0139 - accuracy: 0.6475\n",
      "Epoch 5/10\n",
      "1563/1563 [==============================] - 78s 50ms/step - loss: 0.9512 - accuracy: 0.6728\n",
      "Epoch 6/10\n",
      "1563/1563 [==============================] - 79s 50ms/step - loss: 0.8863 - accuracy: 0.6929\n",
      "Epoch 7/10\n",
      "1563/1563 [==============================] - 80s 51ms/step - loss: 0.8442 - accuracy: 0.7081\n",
      "Epoch 8/10\n",
      "1563/1563 [==============================] - 81s 52ms/step - loss: 0.7999 - accuracy: 0.7210\n",
      "Epoch 9/10\n",
      "1563/1563 [==============================] - 81s 52ms/step - loss: 0.7615 - accuracy: 0.7347\n",
      "Epoch 10/10\n",
      "1563/1563 [==============================] - 83s 53ms/step - loss: 0.7217 - accuracy: 0.7493\n"
     ]
    },
    {
     "data": {
      "text/plain": [
       "<keras.callbacks.History at 0x1e48a584f70>"
      ]
     },
     "execution_count": 85,
     "metadata": {},
     "output_type": "execute_result"
    }
   ],
   "source": [
    "model2 = keras.Sequential([\n",
    "    # cnn\n",
    "    keras.layers.Conv2D(filters=32, kernel_size=(3, 3), strides=(1,1), input_shape=(32, 32, 3)),\n",
    "    keras.layers.Lambda( lambda x :  x*tf.math.log(1+ tf.math.abs(x))  ),\n",
    "    keras.layers.MaxPooling2D((2, 2)),\n",
    "    \n",
    "    keras.layers.Conv2D(filters=64, kernel_size=(3, 3), strides=(1,1)),\n",
    "    keras.layers.Lambda( lambda x : x*tf.math.log(1+ tf.math.abs(x))   ),\n",
    "    keras.layers.MaxPooling2D((2, 2)),\n",
    "    \n",
    "    # ann\n",
    "    keras.layers.Flatten(), \n",
    "    \n",
    "    keras.layers.Dense(64),\n",
    "    keras.layers.Lambda( lambda x : x*tf.math.log(1+ tf.math.abs(x))    ),\n",
    "\n",
    "    keras.layers.Dense(10, activation='softmax')\n",
    "])\n",
    "model2.compile(optimizer='adam',\n",
    "              loss='sparse_categorical_crossentropy',\n",
    "              metrics=['accuracy'])\n",
    "model2.fit(X_train, y_train, epochs=10)"
   ]
  },
  {
   "cell_type": "code",
   "execution_count": 86,
   "metadata": {},
   "outputs": [
    {
     "name": "stdout",
     "output_type": "stream",
     "text": [
      "313/313 [==============================] - 6s 17ms/step - loss: 0.9901 - accuracy: 0.6819\n"
     ]
    },
    {
     "data": {
      "text/plain": [
       "[0.99014812707901, 0.6819000244140625]"
      ]
     },
     "execution_count": 86,
     "metadata": {},
     "output_type": "execute_result"
    }
   ],
   "source": [
    "model2.evaluate(X_test, y_test)"
   ]
  },
  {
   "cell_type": "markdown",
   "metadata": {},
   "source": []
  },
  {
   "cell_type": "code",
   "execution_count": 17,
   "metadata": {},
   "outputs": [],
   "source": [
    "# Fashion mnist dataset"
   ]
  },
  {
   "cell_type": "code",
   "execution_count": 35,
   "metadata": {},
   "outputs": [],
   "source": [
    "(X_train, y_train),(X_test, y_test) = keras.datasets.fashion_mnist.load_data()\n",
    "X_train = X_train / 255.0\n",
    "X_test = X_test / 255.0"
   ]
  },
  {
   "cell_type": "code",
   "execution_count": 36,
   "metadata": {},
   "outputs": [],
   "source": [
    "X_train = X_train.reshape(X_train.shape[0],28,28,1)\n",
    "X_test = X_test.reshape(X_test.shape[0],28,28,1)"
   ]
  },
  {
   "cell_type": "code",
   "execution_count": 38,
   "metadata": {},
   "outputs": [
    {
     "name": "stdout",
     "output_type": "stream",
     "text": [
      "Epoch 1/10\n",
      "1875/1875 [==============================] - 42s 22ms/step - loss: 0.4654 - accuracy: 0.8312\n",
      "Epoch 2/10\n",
      "1875/1875 [==============================] - 41s 22ms/step - loss: 0.3126 - accuracy: 0.8865\n",
      "Epoch 3/10\n",
      "1875/1875 [==============================] - 42s 22ms/step - loss: 0.2678 - accuracy: 0.9020\n",
      "Epoch 4/10\n",
      "1875/1875 [==============================] - 41s 22ms/step - loss: 0.2372 - accuracy: 0.9120\n",
      "Epoch 5/10\n",
      "1875/1875 [==============================] - 41s 22ms/step - loss: 0.2123 - accuracy: 0.9212\n",
      "Epoch 6/10\n",
      "1875/1875 [==============================] - 40s 22ms/step - loss: 0.1914 - accuracy: 0.9288\n",
      "Epoch 7/10\n",
      "1875/1875 [==============================] - 41s 22ms/step - loss: 0.1759 - accuracy: 0.9340\n",
      "Epoch 8/10\n",
      "1875/1875 [==============================] - 51s 27ms/step - loss: 0.1590 - accuracy: 0.9413\n",
      "Epoch 9/10\n",
      "1875/1875 [==============================] - 61s 32ms/step - loss: 0.1448 - accuracy: 0.9463\n",
      "Epoch 10/10\n",
      "1875/1875 [==============================] - 43s 23ms/step - loss: 0.1314 - accuracy: 0.9498\n",
      "313/313 [==============================] - 3s 8ms/step - loss: 0.2736 - accuracy: 0.9090\n"
     ]
    },
    {
     "data": {
      "text/plain": [
       "[0.27362269163131714, 0.9089999794960022]"
      ]
     },
     "execution_count": 38,
     "metadata": {},
     "output_type": "execute_result"
    }
   ],
   "source": [
    "model2 = keras.Sequential([\n",
    "    # cnn\n",
    "    keras.layers.Conv2D(filters=32, kernel_size=(3, 3),activation='relu', strides=(1,1), input_shape=(28,28,1)),\n",
    "    keras.layers.MaxPooling2D((2, 2)),\n",
    "    \n",
    "    keras.layers.Conv2D(filters=64, kernel_size=(3, 3), activation='relu', strides=(1,1)),\n",
    "    keras.layers.MaxPooling2D((2, 2)),\n",
    "    \n",
    "    # ann\n",
    "    keras.layers.Flatten(), \n",
    "\n",
    "    keras.layers.Dense(64, activation = 'relu'),\n",
    "    \n",
    "    keras.layers.Dense(10, activation='softmax')\n",
    "])\n",
    "model2.compile(optimizer='adam',\n",
    "              loss='sparse_categorical_crossentropy',\n",
    "              metrics=['accuracy'])\n",
    "model2.fit(X_train, y_train, epochs=10)\n",
    "model2.evaluate(X_test, y_test)"
   ]
  },
  {
   "cell_type": "code",
   "execution_count": 41,
   "metadata": {},
   "outputs": [
    {
     "name": "stdout",
     "output_type": "stream",
     "text": [
      "Epoch 1/10\n",
      "1875/1875 [==============================] - 65s 34ms/step - loss: 0.5533 - accuracy: 0.7963\n",
      "Epoch 2/10\n",
      "1875/1875 [==============================] - 61s 33ms/step - loss: 0.3544 - accuracy: 0.8697\n",
      "Epoch 3/10\n",
      "1875/1875 [==============================] - 62s 33ms/step - loss: 0.3072 - accuracy: 0.8878\n",
      "Epoch 4/10\n",
      "1875/1875 [==============================] - 61s 33ms/step - loss: 0.2802 - accuracy: 0.8976\n",
      "Epoch 5/10\n",
      "1875/1875 [==============================] - 62s 33ms/step - loss: 0.2580 - accuracy: 0.9043\n",
      "Epoch 6/10\n",
      "1875/1875 [==============================] - 62s 33ms/step - loss: 0.2394 - accuracy: 0.9106\n",
      "Epoch 7/10\n",
      "1875/1875 [==============================] - 62s 33ms/step - loss: 0.2240 - accuracy: 0.9159\n",
      "Epoch 8/10\n",
      "1875/1875 [==============================] - 62s 33ms/step - loss: 0.2104 - accuracy: 0.9218\n",
      "Epoch 9/10\n",
      "1875/1875 [==============================] - 63s 34ms/step - loss: 0.1999 - accuracy: 0.9238\n",
      "Epoch 10/10\n",
      "1875/1875 [==============================] - 65s 35ms/step - loss: 0.1881 - accuracy: 0.9303\n",
      "313/313 [==============================] - 5s 14ms/step - loss: 0.2774 - accuracy: 0.8988\n"
     ]
    },
    {
     "data": {
      "text/plain": [
       "[0.27735641598701477, 0.8988000154495239]"
      ]
     },
     "execution_count": 41,
     "metadata": {},
     "output_type": "execute_result"
    }
   ],
   "source": [
    "model2 = keras.Sequential([\n",
    "    # cnn\n",
    "    keras.layers.Conv2D(filters=32, kernel_size=(3, 3), strides=(1,1), input_shape=(28,28,1)),\n",
    "    keras.layers.Lambda( lambda x :  tf.where(x>=0.0,tf.math.log(tf.math.pow(x,2) +1),0.0)  ),\n",
    "    keras.layers.MaxPooling2D((2, 2)),\n",
    "    \n",
    "    keras.layers.Conv2D(filters=64, kernel_size=(3, 3), strides=(1,1)),\n",
    "    keras.layers.Lambda( lambda x : tf.where(x>=0.0,tf.math.log(tf.math.pow(x,2) +1),0.0)  ),\n",
    "    keras.layers.MaxPooling2D((2, 2)),\n",
    "    \n",
    "    # ann\n",
    "    keras.layers.Flatten(), \n",
    "\n",
    "    keras.layers.Dense(64),\n",
    "    keras.layers.Lambda( lambda x : tf.where(x>=0.0,tf.math.log(tf.math.pow(x,2) +1),0.0)  ),\n",
    "    \n",
    "    keras.layers.Dense(10, activation='softmax')\n",
    "])\n",
    "model2.compile(optimizer='adam',\n",
    "              loss='sparse_categorical_crossentropy',\n",
    "              metrics=['accuracy'])\n",
    "model2.fit(X_train, y_train, epochs=10)\n",
    "model2.evaluate(X_test, y_test)"
   ]
  },
  {
   "cell_type": "code",
   "execution_count": 40,
   "metadata": {},
   "outputs": [
    {
     "name": "stdout",
     "output_type": "stream",
     "text": [
      "Epoch 1/10\n",
      "1875/1875 [==============================] - 64s 34ms/step - loss: 2.3028 - accuracy: 0.0991\n",
      "Epoch 2/10\n",
      "1875/1875 [==============================] - 68s 36ms/step - loss: 0.7362 - accuracy: 0.7473\n",
      "Epoch 3/10\n",
      "1875/1875 [==============================] - 63s 34ms/step - loss: 0.3509 - accuracy: 0.8727\n",
      "Epoch 4/10\n",
      "1875/1875 [==============================] - 65s 35ms/step - loss: 0.2985 - accuracy: 0.8898\n",
      "Epoch 5/10\n",
      "1875/1875 [==============================] - 61s 33ms/step - loss: 0.2688 - accuracy: 0.9009\n",
      "Epoch 6/10\n",
      "1875/1875 [==============================] - 62s 33ms/step - loss: 0.2431 - accuracy: 0.9096\n",
      "Epoch 7/10\n",
      "1875/1875 [==============================] - 61s 33ms/step - loss: 0.2244 - accuracy: 0.9161\n",
      "Epoch 8/10\n",
      "1875/1875 [==============================] - 61s 33ms/step - loss: 0.2071 - accuracy: 0.9219\n",
      "Epoch 9/10\n",
      "1875/1875 [==============================] - 60s 32ms/step - loss: 0.1912 - accuracy: 0.9294\n",
      "Epoch 10/10\n",
      "1875/1875 [==============================] - 60s 32ms/step - loss: 0.1787 - accuracy: 0.9325\n",
      "313/313 [==============================] - 4s 12ms/step - loss: 0.3193 - accuracy: 0.8928\n"
     ]
    },
    {
     "data": {
      "text/plain": [
       "[0.31930121779441833, 0.892799973487854]"
      ]
     },
     "execution_count": 40,
     "metadata": {},
     "output_type": "execute_result"
    }
   ],
   "source": [
    "model2 = keras.Sequential([\n",
    "    # cnn\n",
    "    keras.layers.Conv2D(filters=32, kernel_size=(3, 3), strides=(1,1), input_shape=(28,28,1)),\n",
    "    keras.layers.Lambda( lambda x :  x*tf.math.log(1+ tf.math.pow(x,2))  ),\n",
    "    keras.layers.MaxPooling2D((2, 2)),\n",
    "    \n",
    "    keras.layers.Conv2D(filters=64, kernel_size=(3, 3), strides=(1,1)),\n",
    "    keras.layers.Lambda( lambda x :  x*tf.math.log(1+ tf.math.pow(x,2))  ),\n",
    "    keras.layers.MaxPooling2D((2, 2)),\n",
    "    \n",
    "    # ann\n",
    "    keras.layers.Flatten(), \n",
    "\n",
    "    keras.layers.Dense(64),\n",
    "    keras.layers.Lambda( lambda x : x*tf.math.log(1+ tf.math.pow(x,2))  ),\n",
    "    \n",
    "    keras.layers.Dense(10, activation='softmax')\n",
    "])\n",
    "model2.compile(optimizer='adam',\n",
    "              loss='sparse_categorical_crossentropy',\n",
    "              metrics=['accuracy'])\n",
    "model2.fit(X_train, y_train, epochs=10)\n",
    "model2.evaluate(X_test, y_test)"
   ]
  },
  {
   "cell_type": "code",
   "execution_count": 39,
   "metadata": {},
   "outputs": [
    {
     "name": "stdout",
     "output_type": "stream",
     "text": [
      "Epoch 1/10\n",
      "1875/1875 [==============================] - 66s 35ms/step - loss: 0.6124 - accuracy: 0.7931\n",
      "Epoch 2/10\n",
      "1875/1875 [==============================] - 65s 34ms/step - loss: 0.3870 - accuracy: 0.8643\n",
      "Epoch 3/10\n",
      "1875/1875 [==============================] - 62s 33ms/step - loss: 0.3302 - accuracy: 0.8813\n",
      "Epoch 4/10\n",
      "1875/1875 [==============================] - 62s 33ms/step - loss: 0.2972 - accuracy: 0.8921\n",
      "Epoch 5/10\n",
      "1875/1875 [==============================] - 63s 34ms/step - loss: 0.2698 - accuracy: 0.9018\n",
      "Epoch 6/10\n",
      "1875/1875 [==============================] - 61s 33ms/step - loss: 0.2493 - accuracy: 0.9079\n",
      "Epoch 7/10\n",
      "1875/1875 [==============================] - 63s 33ms/step - loss: 0.2322 - accuracy: 0.9146\n",
      "Epoch 8/10\n",
      "1875/1875 [==============================] - 62s 33ms/step - loss: 0.2153 - accuracy: 0.9209\n",
      "Epoch 9/10\n",
      "1875/1875 [==============================] - 64s 34ms/step - loss: 0.2009 - accuracy: 0.9259\n",
      "Epoch 10/10\n",
      "1875/1875 [==============================] - 64s 34ms/step - loss: 0.1871 - accuracy: 0.9306\n",
      "313/313 [==============================] - 4s 12ms/step - loss: 0.3021 - accuracy: 0.8999\n"
     ]
    },
    {
     "data": {
      "text/plain": [
       "[0.30210477113723755, 0.8999000191688538]"
      ]
     },
     "execution_count": 39,
     "metadata": {},
     "output_type": "execute_result"
    }
   ],
   "source": [
    "model2 = keras.Sequential([\n",
    "    # cnn\n",
    "    keras.layers.Conv2D(filters=32, kernel_size=(3, 3), strides=(1,1), input_shape=(28,28,1)),\n",
    "    keras.layers.Lambda( lambda x :  x*tf.math.log(1+ tf.math.abs(x))  ),\n",
    "    keras.layers.MaxPooling2D((2, 2)),\n",
    "    \n",
    "    keras.layers.Conv2D(filters=64, kernel_size=(3, 3), strides=(1,1)),\n",
    "    keras.layers.Lambda( lambda x :  x*tf.math.log(1+ tf.math.abs(x))  ),\n",
    "    keras.layers.MaxPooling2D((2, 2)),\n",
    "    \n",
    "    # ann\n",
    "    keras.layers.Flatten(), \n",
    "\n",
    "    keras.layers.Dense(64),\n",
    "    keras.layers.Lambda( lambda x :  x*tf.math.log(1+ tf.math.abs(x))  ),\n",
    "    \n",
    "    keras.layers.Dense(10, activation='softmax')\n",
    "])\n",
    "model2.compile(optimizer='adam',\n",
    "              loss='sparse_categorical_crossentropy',\n",
    "              metrics=['accuracy'])\n",
    "model2.fit(X_train, y_train, epochs=10)\n",
    "model2.evaluate(X_test, y_test)"
   ]
  },
  {
   "cell_type": "code",
   "execution_count": null,
   "metadata": {},
   "outputs": [],
   "source": []
  },
  {
   "cell_type": "code",
   "execution_count": null,
   "metadata": {},
   "outputs": [],
   "source": [
    "# flower dataset"
   ]
  },
  {
   "cell_type": "code",
   "execution_count": null,
   "metadata": {},
   "outputs": [],
   "source": [
    "resnet = tf.keras.applications.ResNet50(\n",
    "    input_shape=None,\n",
    "    weights=\"imagenet\",             # take the trained weights\n",
    "    include_top=False,              # remove the last prediction layer\n",
    ")"
   ]
  },
  {
   "cell_type": "code",
   "execution_count": null,
   "metadata": {},
   "outputs": [],
   "source": []
  },
  {
   "cell_type": "code",
   "execution_count": null,
   "metadata": {},
   "outputs": [],
   "source": []
  },
  {
   "cell_type": "code",
   "execution_count": null,
   "metadata": {},
   "outputs": [],
   "source": []
  },
  {
   "cell_type": "code",
   "execution_count": null,
   "metadata": {},
   "outputs": [],
   "source": []
  },
  {
   "cell_type": "code",
   "execution_count": null,
   "metadata": {},
   "outputs": [],
   "source": []
  },
  {
   "cell_type": "code",
   "execution_count": null,
   "metadata": {},
   "outputs": [],
   "source": []
  },
  {
   "cell_type": "code",
   "execution_count": null,
   "metadata": {},
   "outputs": [],
   "source": []
  },
  {
   "cell_type": "code",
   "execution_count": null,
   "metadata": {},
   "outputs": [],
   "source": []
  },
  {
   "cell_type": "code",
   "execution_count": null,
   "metadata": {},
   "outputs": [],
   "source": []
  },
  {
   "cell_type": "code",
   "execution_count": 76,
   "metadata": {},
   "outputs": [],
   "source": [
    "# m.exp(m.log(10, 0.9*10))\n",
    "# log(exp(x)) = x  <--->    log(2.73 **x)       -->   log(a**x)"
   ]
  }
 ],
 "metadata": {
  "kernelspec": {
   "display_name": "Python 3.9.0 64-bit",
   "language": "python",
   "name": "python3"
  },
  "language_info": {
   "codemirror_mode": {
    "name": "ipython",
    "version": 3
   },
   "file_extension": ".py",
   "mimetype": "text/x-python",
   "name": "python",
   "nbconvert_exporter": "python",
   "pygments_lexer": "ipython3",
   "version": "3.9.0 (tags/v3.9.0:9cf6752, Oct  5 2020, 15:34:40) [MSC v.1927 64 bit (AMD64)]"
  },
  "orig_nbformat": 4,
  "vscode": {
   "interpreter": {
    "hash": "9d222c0ea30c03d9b1e6630c1c313bfaf3a7c4d9233845a6eafe7bbde919cfdc"
   }
  }
 },
 "nbformat": 4,
 "nbformat_minor": 2
}
