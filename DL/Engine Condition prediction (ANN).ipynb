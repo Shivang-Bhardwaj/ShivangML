{
 "cells": [
  {
   "cell_type": "code",
   "execution_count": 15,
   "id": "5f876f51",
   "metadata": {},
   "outputs": [],
   "source": [
    "import tensorflow as tf\n",
    "import pandas as pd\n",
    "from tensorflow import keras\n",
    "import matplotlib.pyplot as plt\n",
    "import numpy as np"
   ]
  },
  {
   "cell_type": "code",
   "execution_count": 16,
   "id": "a9bd2fcc",
   "metadata": {},
   "outputs": [
    {
     "data": {
      "text/html": [
       "<div>\n",
       "<style scoped>\n",
       "    .dataframe tbody tr th:only-of-type {\n",
       "        vertical-align: middle;\n",
       "    }\n",
       "\n",
       "    .dataframe tbody tr th {\n",
       "        vertical-align: top;\n",
       "    }\n",
       "\n",
       "    .dataframe thead th {\n",
       "        text-align: right;\n",
       "    }\n",
       "</style>\n",
       "<table border=\"1\" class=\"dataframe\">\n",
       "  <thead>\n",
       "    <tr style=\"text-align: right;\">\n",
       "      <th></th>\n",
       "      <th>Engine rpm</th>\n",
       "      <th>Lub oil pressure</th>\n",
       "      <th>Fuel pressure</th>\n",
       "      <th>Coolant pressure</th>\n",
       "      <th>lub oil temp</th>\n",
       "      <th>Coolant temp</th>\n",
       "      <th>Engine Condition</th>\n",
       "    </tr>\n",
       "  </thead>\n",
       "  <tbody>\n",
       "    <tr>\n",
       "      <th>0</th>\n",
       "      <td>700</td>\n",
       "      <td>2.493592</td>\n",
       "      <td>11.790927</td>\n",
       "      <td>3.178981</td>\n",
       "      <td>84.144163</td>\n",
       "      <td>81.632187</td>\n",
       "      <td>1</td>\n",
       "    </tr>\n",
       "    <tr>\n",
       "      <th>1</th>\n",
       "      <td>876</td>\n",
       "      <td>2.941606</td>\n",
       "      <td>16.193866</td>\n",
       "      <td>2.464504</td>\n",
       "      <td>77.640934</td>\n",
       "      <td>82.445724</td>\n",
       "      <td>0</td>\n",
       "    </tr>\n",
       "    <tr>\n",
       "      <th>2</th>\n",
       "      <td>520</td>\n",
       "      <td>2.961746</td>\n",
       "      <td>6.553147</td>\n",
       "      <td>1.064347</td>\n",
       "      <td>77.752266</td>\n",
       "      <td>79.645777</td>\n",
       "      <td>1</td>\n",
       "    </tr>\n",
       "    <tr>\n",
       "      <th>3</th>\n",
       "      <td>473</td>\n",
       "      <td>3.707835</td>\n",
       "      <td>19.510172</td>\n",
       "      <td>3.727455</td>\n",
       "      <td>74.129907</td>\n",
       "      <td>71.774629</td>\n",
       "      <td>1</td>\n",
       "    </tr>\n",
       "    <tr>\n",
       "      <th>4</th>\n",
       "      <td>619</td>\n",
       "      <td>5.672919</td>\n",
       "      <td>15.738871</td>\n",
       "      <td>2.052251</td>\n",
       "      <td>78.396989</td>\n",
       "      <td>87.000225</td>\n",
       "      <td>0</td>\n",
       "    </tr>\n",
       "  </tbody>\n",
       "</table>\n",
       "</div>"
      ],
      "text/plain": [
       "   Engine rpm  Lub oil pressure  Fuel pressure  Coolant pressure  \\\n",
       "0         700          2.493592      11.790927          3.178981   \n",
       "1         876          2.941606      16.193866          2.464504   \n",
       "2         520          2.961746       6.553147          1.064347   \n",
       "3         473          3.707835      19.510172          3.727455   \n",
       "4         619          5.672919      15.738871          2.052251   \n",
       "\n",
       "   lub oil temp  Coolant temp  Engine Condition  \n",
       "0     84.144163     81.632187                 1  \n",
       "1     77.640934     82.445724                 0  \n",
       "2     77.752266     79.645777                 1  \n",
       "3     74.129907     71.774629                 1  \n",
       "4     78.396989     87.000225                 0  "
      ]
     },
     "execution_count": 16,
     "metadata": {},
     "output_type": "execute_result"
    }
   ],
   "source": [
    "data = pd.read_csv(r\"C:\\Users\\Shivang\\Downloads\\archive (1)\\engine_data.csv\")\n",
    "data.head()"
   ]
  },
  {
   "cell_type": "code",
   "execution_count": 17,
   "id": "d097f03a",
   "metadata": {},
   "outputs": [
    {
     "data": {
      "text/plain": [
       "(19535, 7)"
      ]
     },
     "execution_count": 17,
     "metadata": {},
     "output_type": "execute_result"
    }
   ],
   "source": [
    "data.shape"
   ]
  },
  {
   "cell_type": "code",
   "execution_count": 18,
   "id": "7e3c61f2",
   "metadata": {},
   "outputs": [],
   "source": [
    "X = data.drop(columns=[\"Engine Condition\"])\n",
    "y = data[\"Engine Condition\"]"
   ]
  },
  {
   "cell_type": "code",
   "execution_count": 19,
   "id": "458debca",
   "metadata": {},
   "outputs": [],
   "source": [
    "from sklearn.preprocessing import MinMaxScaler\n",
    "mms = MinMaxScaler()\n",
    "mms = mms.fit(X)\n",
    "X_transformed = mms.transform(X)"
   ]
  },
  {
   "cell_type": "code",
   "execution_count": 21,
   "id": "204d6933",
   "metadata": {},
   "outputs": [
    {
     "data": {
      "text/plain": [
       "(19535, 6)"
      ]
     },
     "execution_count": 21,
     "metadata": {},
     "output_type": "execute_result"
    }
   ],
   "source": [
    "X_transformed.shape"
   ]
  },
  {
   "cell_type": "code",
   "execution_count": 22,
   "id": "fab599a5",
   "metadata": {},
   "outputs": [],
   "source": [
    "from sklearn.model_selection import train_test_split\n",
    "X_train, X_test, y_train, y_test = train_test_split(X_transformed, y, stratify=y, random_state=58)"
   ]
  },
  {
   "cell_type": "code",
   "execution_count": 33,
   "id": "f036bfb4",
   "metadata": {
    "scrolled": true
   },
   "outputs": [
    {
     "name": "stdout",
     "output_type": "stream",
     "text": [
      "Epoch 1/25\n",
      "115/115 [==============================] - 1s 2ms/step - loss: 0.6764 - accuracy: 0.6305\n",
      "Epoch 2/25\n",
      "115/115 [==============================] - 0s 2ms/step - loss: 0.6699 - accuracy: 0.6305\n",
      "Epoch 3/25\n",
      "115/115 [==============================] - 0s 2ms/step - loss: 0.6652 - accuracy: 0.6305\n",
      "Epoch 4/25\n",
      "115/115 [==============================] - 0s 2ms/step - loss: 0.6606 - accuracy: 0.6304\n",
      "Epoch 5/25\n",
      "115/115 [==============================] - 0s 2ms/step - loss: 0.6564 - accuracy: 0.6303\n",
      "Epoch 6/25\n",
      "115/115 [==============================] - 0s 2ms/step - loss: 0.6526 - accuracy: 0.6308\n",
      "Epoch 7/25\n",
      "115/115 [==============================] - 0s 2ms/step - loss: 0.6490 - accuracy: 0.6313\n",
      "Epoch 8/25\n",
      "115/115 [==============================] - 0s 2ms/step - loss: 0.6458 - accuracy: 0.6327\n",
      "Epoch 9/25\n",
      "115/115 [==============================] - 0s 2ms/step - loss: 0.6427 - accuracy: 0.6335\n",
      "Epoch 10/25\n",
      "115/115 [==============================] - 0s 2ms/step - loss: 0.6400 - accuracy: 0.6352\n",
      "Epoch 11/25\n",
      "115/115 [==============================] - 0s 2ms/step - loss: 0.6374 - accuracy: 0.6359\n",
      "Epoch 12/25\n",
      "115/115 [==============================] - 0s 2ms/step - loss: 0.6352 - accuracy: 0.6385\n",
      "Epoch 13/25\n",
      "115/115 [==============================] - 0s 2ms/step - loss: 0.6331 - accuracy: 0.6384\n",
      "Epoch 14/25\n",
      "115/115 [==============================] - 0s 2ms/step - loss: 0.6310 - accuracy: 0.6412\n",
      "Epoch 15/25\n",
      "115/115 [==============================] - 0s 2ms/step - loss: 0.6293 - accuracy: 0.6415\n",
      "Epoch 16/25\n",
      "115/115 [==============================] - 0s 2ms/step - loss: 0.6276 - accuracy: 0.6441\n",
      "Epoch 17/25\n",
      "115/115 [==============================] - 0s 2ms/step - loss: 0.6262 - accuracy: 0.6460\n",
      "Epoch 18/25\n",
      "115/115 [==============================] - 0s 2ms/step - loss: 0.6248 - accuracy: 0.6466\n",
      "Epoch 19/25\n",
      "115/115 [==============================] - 0s 2ms/step - loss: 0.6236 - accuracy: 0.6489\n",
      "Epoch 20/25\n",
      "115/115 [==============================] - 0s 2ms/step - loss: 0.6224 - accuracy: 0.6499\n",
      "Epoch 21/25\n",
      "115/115 [==============================] - 0s 2ms/step - loss: 0.6213 - accuracy: 0.6512\n",
      "Epoch 22/25\n",
      "115/115 [==============================] - 0s 2ms/step - loss: 0.6203 - accuracy: 0.6529\n",
      "Epoch 23/25\n",
      "115/115 [==============================] - 0s 2ms/step - loss: 0.6195 - accuracy: 0.6553\n",
      "Epoch 24/25\n",
      "115/115 [==============================] - 0s 2ms/step - loss: 0.6186 - accuracy: 0.6557\n",
      "Epoch 25/25\n",
      "115/115 [==============================] - 0s 2ms/step - loss: 0.6178 - accuracy: 0.6565\n"
     ]
    },
    {
     "data": {
      "text/plain": [
       "<keras.callbacks.History at 0x1febcfdd2b0>"
      ]
     },
     "execution_count": 33,
     "metadata": {},
     "output_type": "execute_result"
    }
   ],
   "source": [
    "model=keras.Sequential([        \n",
    "    keras.layers.Dense(2,input_shape=(6,),activation='softmax')\n",
    "])\n",
    "model.compile(\n",
    "    optimizer='adam',\n",
    "    loss='sparse_categorical_crossentropy',\n",
    "    metrics=['accuracy']\n",
    ")\n",
    "model.fit(X_train,y_train,epochs=25, batch_size=128)"
   ]
  },
  {
   "cell_type": "code",
   "execution_count": 34,
   "id": "b3bdef6c",
   "metadata": {},
   "outputs": [
    {
     "name": "stdout",
     "output_type": "stream",
     "text": [
      "153/153 [==============================] - 0s 1ms/step\n"
     ]
    }
   ],
   "source": [
    "y_pred = model.predict(X_test)"
   ]
  },
  {
   "cell_type": "code",
   "execution_count": 42,
   "id": "8af34730",
   "metadata": {
    "scrolled": true
   },
   "outputs": [
    {
     "data": {
      "text/plain": [
       "[1, 1, 1, 1, 1]"
      ]
     },
     "execution_count": 42,
     "metadata": {},
     "output_type": "execute_result"
    }
   ],
   "source": [
    "y_predicted = []\n",
    "for lis in y_pred:\n",
    "    if lis[0] > lis[1]:\n",
    "        y_predicted.append(0)\n",
    "    else:\n",
    "        y_predicted.append(1)\n",
    "y_predicted[:5]"
   ]
  },
  {
   "cell_type": "code",
   "execution_count": 43,
   "id": "27a0f217",
   "metadata": {},
   "outputs": [
    {
     "data": {
      "text/plain": [
       "11433    1\n",
       "10152    1\n",
       "1202     0\n",
       "4689     1\n",
       "13735    1\n",
       "Name: Engine Condition, dtype: int64"
      ]
     },
     "execution_count": 43,
     "metadata": {},
     "output_type": "execute_result"
    }
   ],
   "source": [
    "y_test[:5]"
   ]
  },
  {
   "cell_type": "code",
   "execution_count": 44,
   "id": "83eb79a7",
   "metadata": {},
   "outputs": [
    {
     "name": "stdout",
     "output_type": "stream",
     "text": [
      "153/153 [==============================] - 0s 2ms/step - loss: 0.6212 - accuracy: 0.6579\n"
     ]
    },
    {
     "data": {
      "text/plain": [
       "[0.6211681365966797, 0.6578624248504639]"
      ]
     },
     "execution_count": 44,
     "metadata": {},
     "output_type": "execute_result"
    }
   ],
   "source": [
    "model.evaluate(X_test, y_test)"
   ]
  },
  {
   "cell_type": "code",
   "execution_count": 28,
   "id": "5f689c19",
   "metadata": {},
   "outputs": [],
   "source": [
    "from sklearn.metrics import precision_score, recall_score, f1_score, confusion_matrix"
   ]
  },
  {
   "cell_type": "code",
   "execution_count": 45,
   "id": "a0f29b39",
   "metadata": {},
   "outputs": [
    {
     "data": {
      "text/plain": [
       "Text(50.722222222222214, 0.5, 'Truth')"
      ]
     },
     "execution_count": 45,
     "metadata": {},
     "output_type": "execute_result"
    },
    {
     "data": {
      "image/png": "[encoded data removed]",
      "text/plain": [
       "<Figure size 640x480 with 2 Axes>"
      ]
     },
     "metadata": {},
     "output_type": "display_data"
    }
   ],
   "source": [
    "cm = confusion_matrix(y_test, y_predicted)\n",
    "\n",
    "import seaborn as sns\n",
    "sns.heatmap(cm,annot=True,fmt='d')\n",
    "plt.xlabel('Predicted')\n",
    "plt.ylabel('Truth')"
   ]
  },
  {
   "cell_type": "code",
   "execution_count": 47,
   "id": "a8ee58e3",
   "metadata": {},
   "outputs": [
    {
     "name": "stdout",
     "output_type": "stream",
     "text": [
      "Precision:  0.6630384437239463\n",
      "Recall:  0.9298473530367002\n",
      "F1 Score:  0.7740976071380289\n"
     ]
    }
   ],
   "source": [
    "pre = precision_score(y_test, y_predicted)\n",
    "rec = recall_score(y_test, y_predicted)\n",
    "f1 = f1_score(y_test, y_predicted)\n",
    "\n",
    "print(\"Precision: \", pre)\n",
    "print(\"Recall: \", rec)\n",
    "print(\"F1 Score: \", f1)"
   ]
  },
  {
   "cell_type": "code",
   "execution_count": null,
   "id": "68a29dc0",
   "metadata": {},
   "outputs": [],
   "source": []
  }
 ],
 "metadata": {
  "kernelspec": {
   "display_name": "Python 3 (ipykernel)",
   "language": "python",
   "name": "python3"
  },
  "language_info": {
   "codemirror_mode": {
    "name": "ipython",
    "version": 3
   },
   "file_extension": ".py",
   "mimetype": "text/x-python",
   "name": "python",
   "nbconvert_exporter": "python",
   "pygments_lexer": "ipython3",
   "version": "3.9.0"
  }
 },
 "nbformat": 4,
 "nbformat_minor": 5
}
