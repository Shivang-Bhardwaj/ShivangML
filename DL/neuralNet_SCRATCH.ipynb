{
 "cells": [
  {
   "cell_type": "code",
   "execution_count": 1,
   "metadata": {},
   "outputs": [],
   "source": [
    "import  pandas as pd\n",
    "import numpy as np\n",
    "import tensorflow as tf\n",
    "from tensorflow import keras\n",
    "import matplotlib.pyplot as plt"
   ]
  },
  {
   "cell_type": "code",
   "execution_count": 2,
   "metadata": {},
   "outputs": [],
   "source": [
    "df=pd.read_csv(r'C:\\Users\\DELL PC\\Desktop\\ML\\DL\\useful_data\\insurance.csv')"
   ]
  },
  {
   "cell_type": "code",
   "execution_count": 3,
   "metadata": {},
   "outputs": [],
   "source": [
    "from sklearn.model_selection import train_test_split\n",
    "X_train,X_test,y_train,y_test=train_test_split(df[['Age','Previously_Insured']],df.Response,test_size=.3,random_state=58)"
   ]
  },
  {
   "cell_type": "code",
   "execution_count": 4,
   "metadata": {},
   "outputs": [],
   "source": [
    "X_train_scaled=X_train.copy()                   #Scaling\n",
    "X_train_scaled['Age']=X_train_scaled['Age']/100\n",
    "\n",
    "X_test_scaled=X_test.copy()\n",
    "X_test_scaled['Age']=X_test_scaled['Age']/100"
   ]
  },
  {
   "cell_type": "code",
   "execution_count": null,
   "metadata": {},
   "outputs": [],
   "source": []
  },
  {
   "cell_type": "code",
   "execution_count": null,
   "metadata": {},
   "outputs": [],
   "source": []
  },
  {
   "cell_type": "code",
   "execution_count": null,
   "metadata": {},
   "outputs": [],
   "source": []
  },
  {
   "cell_type": "code",
   "execution_count": 23,
   "metadata": {},
   "outputs": [],
   "source": [
    "class myNN:\n",
    "    def __init__(self):\n",
    "        self.w1=1\n",
    "        self.w2=1\n",
    "        self.bias=0\n",
    "\n",
    "    def fit(self,X,y,epochs):\n",
    "        self.w1,self.w2,self.bias=self.gradient_descent(X['Age'],X['Previously_Insured'],y,epochs)\n",
    "\n",
    "    def predict(self,X_test):\n",
    "        weighted_sum=self.w1*X_test['Age']+self.w2*X_test['Previously_Insured']+self.bias\n",
    "        return self.sigmoid_numpy(weighted_sum)\n",
    "\n",
    "    def gradient_descent(self,age,affordability,y_true,epochs): \n",
    "        w1=w2=1\n",
    "        bias=0\n",
    "        learning_rate=.5\n",
    "        n=len(age)\n",
    "\n",
    "        for i in range(epochs):\n",
    "            weighted_sum=w1*age+w2*affordability+bias\n",
    "            y_predicted=self.sigmoid_numpy(weighted_sum)\n",
    "\n",
    "            loss=self.log_loss(y_true,y_predicted)\n",
    "\n",
    "            w1d=(1/n)*np.dot(np.transpose(age),(y_predicted-y_true))\n",
    "            w2d=(1/n)*np.dot(np.transpose(affordability),(y_predicted-y_true))\n",
    "            bias_d=np.mean(y_predicted-y_true)\n",
    "\n",
    "            w1=w1-learning_rate*w1d\n",
    "            w2=w2-learning_rate*w2d\n",
    "            bias=bias-learning_rate*bias_d\n",
    "            \n",
    "        return w1,w2,bias\n",
    "\n",
    "    def sigmoid_numpy(self,x):\n",
    "         return 1/(1+np.exp(-x))\n",
    "\n",
    "    def log_loss(self,y_true,y_predicted):\n",
    "        epsilon=1e-15\n",
    "        y_predicted_new=[max(i,epsilon) for i in y_predicted]\n",
    "        y_predicted_new=[min(i,1-epsilon) for i in y_predicted_new]\n",
    "        y_predicted_new=np.array(y_predicted_new)\n",
    "        return -np.mean(y_true*np.log(y_predicted_new)+(1-y_true)*np.log(1-y_predicted_new))\n",
    "\n",
    "    def get_weights(self):\n",
    "        return [self.w1,self.w2],self.bias"
   ]
  },
  {
   "cell_type": "code",
   "execution_count": 24,
   "metadata": {},
   "outputs": [],
   "source": [
    "customModel=myNN()\n",
    "customModel.fit(X_train_scaled,y_train,epochs=500)"
   ]
  },
  {
   "cell_type": "code",
   "execution_count": 25,
   "metadata": {},
   "outputs": [
    {
     "data": {
      "text/plain": [
       "289     0.249927\n",
       "754     0.212195\n",
       "553     0.008914\n",
       "286     0.008914\n",
       "1041    0.217988\n",
       "          ...   \n",
       "949     0.227491\n",
       "1139    0.009098\n",
       "926     0.009036\n",
       "129     0.009098\n",
       "1024    0.199850\n",
       "Length: 361, dtype: float64"
      ]
     },
     "execution_count": 25,
     "metadata": {},
     "output_type": "execute_result"
    }
   ],
   "source": [
    "customModel.predict(X_test_scaled)"
   ]
  },
  {
   "cell_type": "code",
   "execution_count": 27,
   "metadata": {},
   "outputs": [
    {
     "data": {
      "text/plain": [
       "([0.6862607514914825, -3.337658845493573], -1.5382103556936044)"
      ]
     },
     "execution_count": 27,
     "metadata": {},
     "output_type": "execute_result"
    }
   ],
   "source": [
    "coef,bias=customModel.get_weights()\n",
    "coef,bias"
   ]
  },
  {
   "cell_type": "code",
   "execution_count": null,
   "metadata": {},
   "outputs": [],
   "source": []
  }
 ],
 "metadata": {
  "kernelspec": {
   "display_name": "Python 3.9.0 64-bit",
   "language": "python",
   "name": "python3"
  },
  "language_info": {
   "codemirror_mode": {
    "name": "ipython",
    "version": 3
   },
   "file_extension": ".py",
   "mimetype": "text/x-python",
   "name": "python",
   "nbconvert_exporter": "python",
   "pygments_lexer": "ipython3",
   "version": "3.9.0"
  },
  "orig_nbformat": 4,
  "vscode": {
   "interpreter": {
    "hash": "9d222c0ea30c03d9b1e6630c1c313bfaf3a7c4d9233845a6eafe7bbde919cfdc"
   }
  }
 },
 "nbformat": 4,
 "nbformat_minor": 2
}
