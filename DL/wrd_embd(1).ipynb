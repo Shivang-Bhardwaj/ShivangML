{
 "cells": [
  {
   "cell_type": "code",
   "execution_count": 28,
   "metadata": {},
   "outputs": [],
   "source": [
    "import numpy as np\n",
    "from tensorflow.keras.preprocessing.text import one_hot\n",
    "from tensorflow.keras.preprocessing.sequence import pad_sequences\n",
    "from tensorflow.keras.models import Sequential\n",
    "from tensorflow.keras.layers import Dense,Flatten,Embedding"
   ]
  },
  {
   "cell_type": "code",
   "execution_count": 29,
   "metadata": {},
   "outputs": [],
   "source": [
    "reviews=[                   # it contains reviews/text of customers\n",
    "    'nice food',\n",
    "    'amazing restaurant',\n",
    "    'too good',\n",
    "    'just love it!',\n",
    "    'will go again',\n",
    "    'horrible food',\n",
    "    'never go there',\n",
    "    'poor service',\n",
    "    'poor quality',\n",
    "    'needs improvement'\n",
    "]\n",
    "sentiments = np.array([1,1,1,1,1,0,0,0,0,0])  # 1:positive review   0:negative review"
   ]
  },
  {
   "cell_type": "code",
   "execution_count": 30,
   "metadata": {},
   "outputs": [
    {
     "data": {
      "text/plain": [
       "[46, 49]"
      ]
     },
     "execution_count": 30,
     "metadata": {},
     "output_type": "execute_result"
    }
   ],
   "source": [
    "one_hot('amazing restaurant', 50)  # it uses the hashing function to give hash value to each word of txt"
   ]
  },
  {
   "cell_type": "code",
   "execution_count": 31,
   "metadata": {},
   "outputs": [
    {
     "data": {
      "text/plain": [
       "[[1, 20],\n",
       " [46, 49],\n",
       " [47, 8],\n",
       " [19, 49, 30],\n",
       " [10, 13, 30],\n",
       " [28, 20],\n",
       " [41, 13, 25],\n",
       " [35, 8],\n",
       " [35, 39],\n",
       " [24, 14]]"
      ]
     },
     "execution_count": 31,
     "metadata": {},
     "output_type": "execute_result"
    }
   ],
   "source": [
    "vocab_size=50   # vocabulary size\n",
    "encoded_reviews = [one_hot(d, vocab_size) for d in reviews]\n",
    "encoded_reviews"
   ]
  },
  {
   "cell_type": "code",
   "execution_count": 32,
   "metadata": {},
   "outputs": [
    {
     "data": {
      "text/plain": [
       "array([[ 1, 20,  0],\n",
       "       [46, 49,  0],\n",
       "       [47,  8,  0],\n",
       "       [19, 49, 30],\n",
       "       [10, 13, 30],\n",
       "       [28, 20,  0],\n",
       "       [41, 13, 25],\n",
       "       [35,  8,  0],\n",
       "       [35, 39,  0],\n",
       "       [24, 14,  0]])"
      ]
     },
     "execution_count": 32,
     "metadata": {},
     "output_type": "execute_result"
    }
   ],
   "source": [
    "max_length = 3      # max length of text\n",
    "padded_reviews = pad_sequences(encoded_reviews,maxlen= max_length,padding = 'post')\n",
    "padded_reviews\n",
    "\n",
    "# post: to add 0 at end"
   ]
  },
  {
   "cell_type": "code",
   "execution_count": 33,
   "metadata": {},
   "outputs": [],
   "source": [
    "embedded_vector_size=4\n",
    "\n",
    "model = Sequential()\n",
    "model.add(Embedding(vocab_size,embedded_vector_size,input_length=max_length,name = 'my_embedding'))\n",
    "model.add(Flatten())\n",
    "model.add(Dense(1,activation='sigmoid'))\n",
    "\n",
    "# name='my_embedding'  : give name to the embedding layer"
   ]
  },
  {
   "cell_type": "code",
   "execution_count": 34,
   "metadata": {},
   "outputs": [],
   "source": [
    "X=padded_reviews\n",
    "y=sentiments"
   ]
  },
  {
   "cell_type": "code",
   "execution_count": 35,
   "metadata": {},
   "outputs": [
    {
     "name": "stdout",
     "output_type": "stream",
     "text": [
      "Model: \"sequential_1\"\n",
      "_________________________________________________________________\n",
      "Layer (type)                 Output Shape              Param #   \n",
      "=================================================================\n",
      "embedding (Embedding)        (None, 3, 4)              200       \n",
      "_________________________________________________________________\n",
      "flatten_1 (Flatten)          (None, 12)                0         \n",
      "_________________________________________________________________\n",
      "dense_1 (Dense)              (None, 1)                 13        \n",
      "=================================================================\n",
      "Total params: 213\n",
      "Trainable params: 213\n",
      "Non-trainable params: 0\n",
      "_________________________________________________________________\n"
     ]
    }
   ],
   "source": [
    "model.compile(optimizer='adam',loss='binary_crossentropy', metrics=['accuracy'])\n",
    "model.summary()"
   ]
  },
  {
   "cell_type": "code",
   "execution_count": 36,
   "metadata": {},
   "outputs": [
    {
     "data": {
      "text/plain": [
       "<keras.callbacks.History at 0x1b0b3002eb0>"
      ]
     },
     "execution_count": 36,
     "metadata": {},
     "output_type": "execute_result"
    }
   ],
   "source": [
    "model.fit(X,y,epochs=50,verbose=0)"
   ]
  },
  {
   "cell_type": "code",
   "execution_count": 37,
   "metadata": {},
   "outputs": [
    {
     "name": "stdout",
     "output_type": "stream",
     "text": [
      "1/1 [==============================] - 0s 238ms/step - loss: 0.6232 - accuracy: 1.0000\n"
     ]
    },
    {
     "data": {
      "text/plain": [
       "1.0"
      ]
     },
     "execution_count": 37,
     "metadata": {},
     "output_type": "execute_result"
    }
   ],
   "source": [
    "loss, accuracy = model.evaluate(X,y)\n",
    "accuracy"
   ]
  },
  {
   "cell_type": "code",
   "execution_count": 38,
   "metadata": {},
   "outputs": [
    {
     "data": {
      "text/plain": [
       "array([[-0.0595811 , -0.09999812,  0.03581629, -0.01633371],\n",
       "       [ 0.08459947, -0.08113127, -0.06003959,  0.05226629],\n",
       "       [ 0.01712458, -0.04731737, -0.03295515,  0.04195899],\n",
       "       [ 0.03578093,  0.04679969, -0.03319222,  0.01463424],\n",
       "       [-0.01852079,  0.0092247 , -0.00520384, -0.02587473],\n",
       "       [-0.03097534, -0.00061309,  0.04115982,  0.00413565],\n",
       "       [-0.00529651, -0.04902903, -0.04293429,  0.03544048],\n",
       "       [-0.02760637, -0.02175758,  0.0205819 ,  0.02667412],\n",
       "       [ 0.01608614,  0.01991251,  0.00078584, -0.08140296],\n",
       "       [-0.01979166,  0.00162553, -0.01712204,  0.0158349 ],\n",
       "       [ 0.01831683, -0.02660553, -0.00774319,  0.04657534],\n",
       "       [ 0.02409576,  0.01233699,  0.0396965 ,  0.02652096],\n",
       "       [-0.04370281, -0.02420809, -0.00591116, -0.01265679],\n",
       "       [-0.05494756, -0.0206861 ,  0.04141212,  0.00343948],\n",
       "       [ 0.07944454, -0.04065689, -0.07161203,  0.05588605],\n",
       "       [-0.01488612,  0.02989388, -0.04397311,  0.00634571],\n",
       "       [ 0.04355593,  0.04271635, -0.03295111, -0.04630677],\n",
       "       [-0.04185703,  0.02946098, -0.03422755,  0.03125224],\n",
       "       [-0.04740287, -0.00210513,  0.02024562, -0.02843264],\n",
       "       [ 0.05264713, -0.00665545, -0.04271968,  0.07791557],\n",
       "       [-0.06181053,  0.01677836,  0.00687199,  0.00077986],\n",
       "       [ 0.02848376, -0.00811421,  0.03883976, -0.00974872],\n",
       "       [-0.01602034, -0.04444259, -0.02657638, -0.04550133],\n",
       "       [-0.04515128,  0.01582206, -0.04348531, -0.00466545],\n",
       "       [-0.0368561 ,  0.0864496 ,  0.09658708, -0.03870109],\n",
       "       [-0.08382989, -0.044575  ,  0.02469797, -0.03705138],\n",
       "       [ 0.000272  , -0.01402941, -0.02621636, -0.04083931],\n",
       "       [-0.01462334, -0.01577695, -0.03461101, -0.0078812 ],\n",
       "       [-0.01519175,  0.01640764,  0.04826554, -0.09010902],\n",
       "       [ 0.03740818, -0.04158387, -0.0011481 , -0.04381596],\n",
       "       [ 0.06788581,  0.07695328, -0.07544453,  0.0067156 ],\n",
       "       [-0.0476185 ,  0.0172237 ,  0.00575172,  0.01523005],\n",
       "       [-0.02172943, -0.00302535, -0.03146411,  0.04782316],\n",
       "       [ 0.00411767, -0.04186623, -0.00839269, -0.01726941],\n",
       "       [-0.02605927,  0.04548321, -0.00831991, -0.02717969],\n",
       "       [-0.02575546,  0.06090154,  0.05175664, -0.01757771],\n",
       "       [ 0.03853654, -0.03022503, -0.04812386,  0.01683763],\n",
       "       [-0.00727735,  0.04474938,  0.02597444, -0.00971659],\n",
       "       [ 0.04712434,  0.00033583,  0.01983288,  0.02148307],\n",
       "       [ 0.00876142, -0.05432221, -0.07243718,  0.01654944],\n",
       "       [-0.00261362, -0.03946321, -0.04923483, -0.04358232],\n",
       "       [-0.05214591,  0.06608791,  0.08871278, -0.08230121],\n",
       "       [-0.00500532, -0.01504131, -0.00784825,  0.04434047],\n",
       "       [-0.01698401,  0.04105847, -0.00579393, -0.00724138],\n",
       "       [ 0.03349871, -0.03738068,  0.04588414, -0.00695805],\n",
       "       [-0.04215165,  0.01829452, -0.00421687, -0.02768985],\n",
       "       [ 0.01010624, -0.07726505, -0.05935517,  0.07921765],\n",
       "       [ 0.09926599, -0.00444577, -0.10016387,  0.01562306],\n",
       "       [ 0.03464586,  0.00744937, -0.00641946,  0.01515759],\n",
       "       [-0.03588783,  0.0590832 ,  0.05172404, -0.07844435]],\n",
       "      dtype=float32)"
      ]
     },
     "execution_count": 38,
     "metadata": {},
     "output_type": "execute_result"
    }
   ],
   "source": [
    "weights = model.get_layer('my_embedding').get_weights()[0]\n",
    "weights"
   ]
  },
  {
   "cell_type": "code",
   "execution_count": 39,
   "metadata": {},
   "outputs": [
    {
     "data": {
      "text/plain": [
       "50"
      ]
     },
     "execution_count": 39,
     "metadata": {},
     "output_type": "execute_result"
    }
   ],
   "source": [
    "len(weights)"
   ]
  },
  {
   "cell_type": "code",
   "execution_count": 40,
   "metadata": {},
   "outputs": [
    {
     "data": {
      "text/plain": [
       "array([ 0.08459947, -0.08113127, -0.06003959,  0.05226629], dtype=float32)"
      ]
     },
     "execution_count": 40,
     "metadata": {},
     "output_type": "execute_result"
    }
   ],
   "source": [
    "weights[1]  #  1-->'nice'"
   ]
  },
  {
   "cell_type": "code",
   "execution_count": 41,
   "metadata": {},
   "outputs": [
    {
     "data": {
      "text/plain": [
       "array([ 0.01010624, -0.07726505, -0.05935517,  0.07921765], dtype=float32)"
      ]
     },
     "execution_count": 41,
     "metadata": {},
     "output_type": "execute_result"
    }
   ],
   "source": [
    "weights[46]  # 46-->'amazing'"
   ]
  },
  {
   "cell_type": "code",
   "execution_count": null,
   "metadata": {},
   "outputs": [],
   "source": []
  },
  {
   "cell_type": "code",
   "execution_count": null,
   "metadata": {},
   "outputs": [],
   "source": []
  }
 ],
 "metadata": {
  "interpreter": {
   "hash": "8551e0ab9876ec51073e0fff13c60ee316e8ca1cb46c814b591d91a5f899d8c5"
  },
  "kernelspec": {
   "display_name": "Python 3.9.0 64-bit",
   "language": "python",
   "name": "python3"
  },
  "language_info": {
   "codemirror_mode": {
    "name": "ipython",
    "version": 3
   },
   "file_extension": ".py",
   "mimetype": "text/x-python",
   "name": "python",
   "nbconvert_exporter": "python",
   "pygments_lexer": "ipython3",
   "version": "3.9.0"
  },
  "orig_nbformat": 4
 },
 "nbformat": 4,
 "nbformat_minor": 2
}
