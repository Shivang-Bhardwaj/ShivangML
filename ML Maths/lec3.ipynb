{
 "cells": [
  {
   "cell_type": "code",
   "execution_count": 2,
   "metadata": {},
   "outputs": [],
   "source": [
    "import numpy as np"
   ]
  },
  {
   "cell_type": "code",
   "execution_count": 4,
   "metadata": {},
   "outputs": [
    {
     "name": "stdout",
     "output_type": "stream",
     "text": [
      "Horizontal vectors: \n",
      "[1 2 3]\n",
      "[10 20 30]\n",
      "Vertical vector: \n",
      "[[12]\n",
      " [13]\n",
      " [14]]\n"
     ]
    }
   ],
   "source": [
    "v1 = [1,2,3] #vector is 1D array\n",
    "v2 = [10,20,30]\n",
    "v3 = [[12],\n",
    "      [13],\n",
    "      [14]]\n",
    "\n",
    "v1 = np.array(v1)\n",
    "v2 = np.array(v2)\n",
    "v3 = np.array(v3)\n",
    "\n",
    "print(\"Horizontal vectors: \")\n",
    "print(v1)\n",
    "print(v2)\n",
    "print(\"Vertical vector: \")\n",
    "print(v3)"
   ]
  },
  {
   "cell_type": "code",
   "execution_count": 7,
   "metadata": {},
   "outputs": [
    {
     "name": "stdout",
     "output_type": "stream",
     "text": [
      "(3,)\n",
      "1\n"
     ]
    }
   ],
   "source": [
    "print(v1.shape)\n",
    "print(v1.ndim)"
   ]
  },
  {
   "cell_type": "code",
   "execution_count": 5,
   "metadata": {},
   "outputs": [
    {
     "name": "stdout",
     "output_type": "stream",
     "text": [
      "Vector Addition:  [11 22 33]\n",
      "Vector subtraction:  [ -9 -18 -27]\n",
      "Vector multiplication with scalar:  [2 4 6]\n"
     ]
    }
   ],
   "source": [
    "print(\"Vector Addition: \", v1+v2)\n",
    "\n",
    "print(\"Vector subtraction: \", v1-v2)\n",
    "\n",
    "scalar = 2\n",
    "print(\"Vector multiplication with scalar: \", scalar*v1)"
   ]
  },
  {
   "cell_type": "code",
   "execution_count": 6,
   "metadata": {},
   "outputs": [
    {
     "name": "stdout",
     "output_type": "stream",
     "text": [
      "Dot Product:  140\n",
      "Cross Product:  [0 0 0]\n"
     ]
    }
   ],
   "source": [
    "# Dot product\n",
    "print(\"Dot Product: \", np.dot(v1,v2))\n",
    "\n",
    "# Cross Product\n",
    "print(\"Cross Product: \", np.cross(v1,v2))"
   ]
  },
  {
   "cell_type": "code",
   "execution_count": null,
   "metadata": {},
   "outputs": [],
   "source": []
  }
 ],
 "metadata": {
  "kernelspec": {
   "display_name": "Python 3",
   "language": "python",
   "name": "python3"
  },
  "language_info": {
   "codemirror_mode": {
    "name": "ipython",
    "version": 3
   },
   "file_extension": ".py",
   "mimetype": "text/x-python",
   "name": "python",
   "nbconvert_exporter": "python",
   "pygments_lexer": "ipython3",
   "version": "3.9.0"
  },
  "orig_nbformat": 4,
  "vscode": {
   "interpreter": {
    "hash": "9d222c0ea30c03d9b1e6630c1c313bfaf3a7c4d9233845a6eafe7bbde919cfdc"
   }
  }
 },
 "nbformat": 4,
 "nbformat_minor": 2
}
